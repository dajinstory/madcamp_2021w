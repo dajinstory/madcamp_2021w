{
 "cells": [
  {
   "cell_type": "code",
   "execution_count": 1,
   "metadata": {},
   "outputs": [],
   "source": [
    "%load_ext autoreload\n",
    "%autoreload 2\n",
    "\n",
    "from PIL import Image\n",
    "import numpy as np\n",
    "from matplotlib.pylab import plt\n",
    "\n",
    "from mtcnn import detect_faces, show_bboxes\n",
    "from solov2 import nuki_faces"
   ]
  },
  {
   "cell_type": "markdown",
   "metadata": {},
   "source": [
    "### 1. Target Image"
   ]
  },
  {
   "cell_type": "code",
   "execution_count": 3,
   "metadata": {},
   "outputs": [],
   "source": [
    "img = Image.open('samples/trot.png')\n",
    "Image.fromarray(np.asarray(img)[:,:,:3]).save(\"samples/trot.jpg\")"
   ]
  },
  {
   "cell_type": "code",
   "execution_count": null,
   "metadata": {},
   "outputs": [
    {
     "name": "stdout",
     "output_type": "stream",
     "text": [
      "\u001b[32m[01/16 01:14:55 detectron2]: \u001b[0mArguments: {'config_file': 'solov2/configs/SOLOv2/R50_3x.yaml', 'input': ['jsm.jpg'], 'output': 'results', 'confidence_threshold': 0.5, 'opts': ['MODEL.WEIGHTS', 'solov2/weights/SOLOv2_R50_3x.pth']}\n"
     ]
    },
    {
     "name": "stderr",
     "output_type": "stream",
     "text": [
      "/Users/dajinhan/anaconda3/envs/face/lib/python3.8/site-packages/torch/nn/functional.py:3060: UserWarning: Default upsampling behavior when mode=bilinear is changed to align_corners=False since 0.4.0. Please specify align_corners=True if the old behavior is desired. See the documentation of nn.Upsample for details.\n",
      "  warnings.warn(\"Default upsampling behavior when mode={} is changed \"\n",
      "/Users/dajinhan/anaconda3/envs/face/lib/python3.8/site-packages/torch/nn/functional.py:3103: UserWarning: The default behavior for interpolate/upsample with float scale_factor changed in 1.6.0 to align with other frameworks/libraries, and now uses scale_factor directly, instead of relying on the computed output size. If you wish to restore the old behavior, please set recompute_scale_factor=True. See the documentation of nn.Upsample for details. \n",
      "  warnings.warn(\"The default behavior for interpolate/upsample with float scale_factor changed \"\n",
      "/Users/dajinhan/Workspace/AdelaiDet/adet/modeling/solov2/solov2.py:397: UserWarning: This overload of nonzero is deprecated:\n",
      "\tnonzero()\n",
      "Consider using one of the following signatures instead:\n",
      "\tnonzero(*, bool as_tuple) (Triggered internally at  /Users/distiller/project/conda/conda-bld/pytorch_1607370249289/work/torch/csrc/utils/python_arg_parser.cpp:882.)\n",
      "  inds = inds.nonzero()\n"
     ]
    }
   ],
   "source": [
    "# Get BBoxs\n",
    "img = Image.open('samples/trot.jpg')\n",
    "bboxs, landmarks = detect_faces(img)\n",
    "\n",
    "# Convert to Nuki Boxs\n",
    "nboxs = []\n",
    "for bbox in bboxs:\n",
    "    x0, y0, x1, y1 = bbox[:4]\n",
    "    xc = (x0+x1)/2\n",
    "    yc = (y0+y1)/2\n",
    "    w = int((x1-x0)/2 * 2.2)\n",
    "    h = (y1-y0)/2\n",
    "    nboxs.append((int(xc-w), int(yc-h*2), int(xc+w), int(yc+h)))\n",
    "    \n",
    "masks = nuki_faces(img, nboxs)\n"
   ]
  },
  {
   "cell_type": "markdown",
   "metadata": {},
   "source": [
    "### 2. SizeUp Head"
   ]
  },
  {
   "cell_type": "code",
   "execution_count": null,
   "metadata": {},
   "outputs": [],
   "source": [
    "orig_img = np.asarray(img)\n",
    "result_img = np.asarray(img).copy()\n",
    "\n",
    "zip_list = zip(nboxs, masks)\n",
    "zip_list = sorted(zip_list, key=lambda x : x[1].sum())\n",
    "for nbox, mask in zip_list:\n",
    "    # original size\n",
    "    x0,y0,x1,y1 = nbox[:4]\n",
    "    xc = int((x0+x1)/2)\n",
    "    yc = int((y0+y1)/2)\n",
    "    w = x1-x0\n",
    "    h = y1-y0\n",
    "    \n",
    "    # crop and resize\n",
    "#     face_img = orig_img[y0:y1, x0:x1, :] * np.expand_dims(mask, 2)\n",
    "#     face_img = Image.fromarray(face_img)\n",
    "#     face_img = face_img.resize((int(w*1.2), int(h*1.2)))\n",
    "#     face_img = np.asarray(face_img)\n",
    "    face_img = orig_img[y0:y1, x0:x1, :]\n",
    "    face_img = Image.fromarray(face_img)\n",
    "    mask = Image.fromarray(mask.astype(np.uint8))\n",
    "    \n",
    "    face_img = face_img.resize((int(w*1.4), int(h*1.4)))\n",
    "    mask = mask.resize((int(w*1.4), int(h*1.4)))\n",
    "    \n",
    "    face_img = np.asarray(face_img).copy()\n",
    "    mask = np.asarray(mask)\n",
    "    mask = np.expand_dims(mask, 2)\n",
    "    face_img *= mask\n",
    "\n",
    "    # new size\n",
    "    nw = face_img.shape[1]\n",
    "    nh = face_img.shape[0]\n",
    "    for row in range(face_img.shape[0]):\n",
    "        srow = row+yc+int(h/2-nh)\n",
    "        if srow < 0 or srow >= result_img.shape[0]:\n",
    "            continue\n",
    "        for col in range(face_img.shape[1]):\n",
    "            scol = col+xc-int(nw/2)\n",
    "            if scol < 0 or scol >= result_img.shape[1]:\n",
    "                continue\n",
    "            \n",
    "            if np.sum(face_img[row][col]) == 0:\n",
    "                continue\n",
    "                \n",
    "            result_img[srow][scol] = face_img[row][col]\n",
    "    \n",
    "    \n",
    "    "
   ]
  },
  {
   "cell_type": "code",
   "execution_count": null,
   "metadata": {},
   "outputs": [],
   "source": [
    "plt.imshow(result_img)\n",
    "Image.fromarray(result_img).save(\"results/result.png\")"
   ]
  },
  {
   "cell_type": "code",
   "execution_count": null,
   "metadata": {},
   "outputs": [],
   "source": []
  },
  {
   "cell_type": "code",
   "execution_count": null,
   "metadata": {},
   "outputs": [],
   "source": []
  }
 ],
 "metadata": {
  "kernelspec": {
   "display_name": "Python [conda env:face] *",
   "language": "python",
   "name": "conda-env-face-py"
  },
  "language_info": {
   "codemirror_mode": {
    "name": "ipython",
    "version": 3
   },
   "file_extension": ".py",
   "mimetype": "text/x-python",
   "name": "python",
   "nbconvert_exporter": "python",
   "pygments_lexer": "ipython3",
   "version": "3.8.5"
  }
 },
 "nbformat": 4,
 "nbformat_minor": 2
}

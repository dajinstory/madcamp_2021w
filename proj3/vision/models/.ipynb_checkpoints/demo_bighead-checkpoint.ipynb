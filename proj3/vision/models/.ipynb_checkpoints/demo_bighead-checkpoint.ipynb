{
 "cells": [
  {
   "cell_type": "code",
   "execution_count": 87,
   "metadata": {},
   "outputs": [
    {
     "name": "stdout",
     "output_type": "stream",
     "text": [
      "The autoreload extension is already loaded. To reload it, use:\n",
      "  %reload_ext autoreload\n"
     ]
    }
   ],
   "source": [
    "%load_ext autoreload\n",
    "%autoreload 2\n",
    "\n",
    "from PIL import Image\n",
    "import numpy as np\n",
    "from matplotlib.pylab import plt\n",
    "\n",
    "from mtcnn import detect_faces, show_bboxes\n",
    "from solov2 import nuki_faces"
   ]
  },
  {
   "cell_type": "markdown",
   "metadata": {},
   "source": [
    "### 1. Target Image"
   ]
  },
  {
   "cell_type": "code",
   "execution_count": null,
   "metadata": {},
   "outputs": [
    {
     "name": "stdout",
     "output_type": "stream",
     "text": [
      "\u001b[32m[01/16 00:54:43 detectron2]: \u001b[0mArguments: {'config_file': 'solov2/configs/SOLOv2/R50_3x.yaml', 'input': ['jsm.jpg'], 'output': 'results', 'confidence_threshold': 0.5, 'opts': ['MODEL.WEIGHTS', 'solov2/weights/SOLOv2_R50_3x.pth']}\n"
     ]
    }
   ],
   "source": [
    "# Get BBoxs\n",
    "img = Image.open('samples/nct_3.jpg')\n",
    "bboxs, landmarks = detect_faces(img)\n",
    "\n",
    "# Convert to Nuki Boxs\n",
    "nboxs = []\n",
    "for bbox in bboxs:\n",
    "    x0, y0, x1, y1 = bbox[:4]\n",
    "    xc = (x0+x1)/2\n",
    "    yc = (y0+y1)/2\n",
    "    w = int((x1-x0)/2 * 1.5)\n",
    "    h = (y1-y0)/2\n",
    "    nboxs.append((int(xc-w), int(yc-h*2), int(xc+w), int(yc+h)))\n",
    "    \n",
    "masks = nuki_faces(img, nboxs)\n"
   ]
  },
  {
   "cell_type": "markdown",
   "metadata": {},
   "source": [
    "### 2. SizeUp Head"
   ]
  },
  {
   "cell_type": "code",
   "execution_count": null,
   "metadata": {},
   "outputs": [],
   "source": [
    "orig_img = np.asarray(img)\n",
    "result_img = np.asarray(img).copy()\n",
    "for nbox, mask in zip(nboxs, masks):\n",
    "    # original size\n",
    "    x0,y0,x1,y1 = nbox[:4]\n",
    "    xc = int((x0+x1)/2)\n",
    "    yc = int((y0+y1)/2)\n",
    "    w = x1-x0\n",
    "    h = y1-y0\n",
    "    \n",
    "    # crop and resize\n",
    "    face_img = orig_img[y0:y1, x0:x1, :] * np.expand_dims(mask, 2)\n",
    "    face_img = Image.fromarray(face_img)\n",
    "    face_img = face_img.resize((int(w*1.2), int(h*1.2)))\n",
    "    face_img = np.asarray(face_img)\n",
    "    \n",
    "    # new size\n",
    "    nw = face_img.shape[1]\n",
    "    nh = face_img.shape[0]\n",
    "    for row in range(face_img.shape[0]):\n",
    "        srow = row+yc+int(h/2-nh)\n",
    "        if srow < 0 or srow >= result_img.shape[0]:\n",
    "            continue\n",
    "        for col in range(face_img.shape[1]):\n",
    "            scol = col+xc-int(nw/2)\n",
    "            if scol < 0 or scol >= result_img.shape[1]:\n",
    "                continue\n",
    "            \n",
    "            if np.sum(face_img[row][col]) == 0:\n",
    "                continue\n",
    "                \n",
    "            result_img[srow][scol] = face_img[row][col]\n",
    "    \n",
    "    \n",
    "    "
   ]
  },
  {
   "cell_type": "code",
   "execution_count": null,
   "metadata": {},
   "outputs": [],
   "source": [
    "plt.imshow(result_img)"
   ]
  },
  {
   "cell_type": "code",
   "execution_count": null,
   "metadata": {},
   "outputs": [],
   "source": []
  }
 ],
 "metadata": {
  "kernelspec": {
   "display_name": "Python [conda env:face] *",
   "language": "python",
   "name": "conda-env-face-py"
  },
  "language_info": {
   "codemirror_mode": {
    "name": "ipython",
    "version": 3
   },
   "file_extension": ".py",
   "mimetype": "text/x-python",
   "name": "python",
   "nbconvert_exporter": "python",
   "pygments_lexer": "ipython3",
   "version": "3.8.5"
  }
 },
 "nbformat": 4,
 "nbformat_minor": 2
}

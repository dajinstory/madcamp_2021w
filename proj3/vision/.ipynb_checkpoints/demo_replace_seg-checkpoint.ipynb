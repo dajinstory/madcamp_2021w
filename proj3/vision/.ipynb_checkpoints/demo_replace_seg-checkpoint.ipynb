{
 "cells": [
  {
   "cell_type": "code",
   "execution_count": 1,
   "metadata": {},
   "outputs": [],
   "source": [
    "%load_ext autoreload\n",
    "%autoreload 2\n",
    "\n",
    "from PIL import Image\n",
    "import numpy as np\n",
    "from matplotlib.pylab import plt\n",
    "from numpy import arccos, array\n",
    "from numpy.linalg import norm\n",
    "import math\n",
    "import cv2\n",
    "\n",
    "from models.mtcnn import detect_faces, show_bboxes\n",
    "from models.face_parsing import seg_faces"
   ]
  },
  {
   "cell_type": "markdown",
   "metadata": {},
   "source": [
    "### Functions for fitting position"
   ]
  },
  {
   "cell_type": "code",
   "execution_count": 2,
   "metadata": {},
   "outputs": [],
   "source": [
    "def getCenter(matrix):\n",
    "    center_x = 0\n",
    "    center_y = 0\n",
    "    region = 0\n",
    "    for y in range(matrix.shape[0]):\n",
    "        for x in range(matrix.shape[1]):\n",
    "            if matrix[y][x]:\n",
    "                center_x += x\n",
    "                center_y += y\n",
    "                region += 1\n",
    "    \n",
    "    if region == 0:\n",
    "        center_x = -1.0\n",
    "        center_y = -1.0\n",
    "    else:\n",
    "        center_x /= region\n",
    "        center_y /= region\n",
    "        \n",
    "    return center_x, center_y"
   ]
  },
  {
   "cell_type": "code",
   "execution_count": 3,
   "metadata": {},
   "outputs": [],
   "source": [
    "def getLandmarks(masks):\n",
    "    landmarks = []\n",
    "    for mask in masks:\n",
    "        mask_leye = (mask == 4)\n",
    "        mask_reye = (mask == 5)\n",
    "        mask_nose = (mask == 10)\n",
    "        mask_mouth = (mask == 11)\n",
    "        mask_upper_lip = (mask == 12)\n",
    "        mask_under_lip = (mask == 13)\n",
    "\n",
    "        landmark = {}\n",
    "        landmark[\"leye\"]=np.array(getCenter(mask_leye))\n",
    "        landmark[\"reye\"]=np.array(getCenter(mask_reye))\n",
    "        landmark[\"nose\"]=np.array(getCenter(mask_nose))\n",
    "        landmark[\"mouth\"]=np.array(getCenter(mask_mouth))\n",
    "        landmark[\"upper_lip\"]=np.array(getCenter(mask_upper_lip))\n",
    "        landmark[\"under_lip\"]=np.array(getCenter(mask_under_lip))\n",
    "        landmarks.append(landmark)\n",
    "    \n",
    "    return landmarks"
   ]
  },
  {
   "cell_type": "code",
   "execution_count": 4,
   "metadata": {},
   "outputs": [],
   "source": [
    "def resizeLandmarks(landmarks, landmarks_size):\n",
    "    for i, (landmark, landmark_size) in enumerate(zip(landmarks, landmarks_size)):\n",
    "        for key in landmark.keys():\n",
    "            landmark[key] *= np.array(landmark_size).astype(float) / 512.0\n",
    "    return landmarks\n",
    "        "
   ]
  },
  {
   "cell_type": "code",
   "execution_count": 5,
   "metadata": {},
   "outputs": [],
   "source": [
    "def resizeMasks(masks, masks_size):\n",
    "    newMasks = []\n",
    "    for (mask, mask_size) in zip(masks, masks_size):\n",
    "        mask = Image.fromarray(mask)\n",
    "        mask = mask.resize(mask_size, resample=Image.BICUBIC)\n",
    "        newMasks.append(np.asarray(mask))\n",
    "    return newMasks\n",
    "        "
   ]
  },
  {
   "cell_type": "code",
   "execution_count": 6,
   "metadata": {},
   "outputs": [],
   "source": [
    "def theta(v, u): \n",
    "    v /= np.linalg.norm(v)\n",
    "    u /= np.linalg.norm(u)\n",
    "    angle = np.arccos(np.dot(v, u))\n",
    "    return angle\n",
    "\n",
    "def absolute(v):\n",
    "    return math.sqrt(np.dot(v,v))"
   ]
  },
  {
   "cell_type": "code",
   "execution_count": 7,
   "metadata": {},
   "outputs": [],
   "source": [
    "def getFaceDir(landmark):\n",
    "    if landmark[\"under_lip\"][0] > 0:\n",
    "        vector = (landmark[\"leye\"] + landmark[\"reye\"])/2 - landmark[\"under_lip\"]\n",
    "    elif landmark[\"upper_lip\"][0] > 0:\n",
    "        vector = (landmark[\"leye\"] + landmark[\"reye\"])/2 - landmark[\"upper_lip\"]\n",
    "    elif landmark[\"mouth\"][0] > 0:\n",
    "        vector = (landmark[\"leye\"] + landmark[\"reye\"])/2 - landmark[\"mouth\"]\n",
    "    else:\n",
    "        vector = (landmark[\"leye\"] + landmark[\"reye\"])/2 - landmark[\"nose\"]\n",
    "    return vector"
   ]
  },
  {
   "cell_type": "code",
   "execution_count": 8,
   "metadata": {},
   "outputs": [],
   "source": [
    "def getRefinedMask(sourceImg, sourceMask, sourceLandmark, targetVector, target_size):\n",
    "    sourceVector = getFaceDir(sourceLandmark)\n",
    "\n",
    "    xc, yc = sourceLandmark[\"nose\"].astype(int)\n",
    "    h, w = sourceImg.size[:2]\n",
    "    resize_ratio = target_size / np.array(sourceImg.size)\n",
    "    \n",
    "    # Rotate\n",
    "    degree = -math.degrees(theta(sourceVector, targetVector))\n",
    "    image = sourceImg.rotate(degree, resample=Image.BICUBIC, center=(xc, yc))\n",
    "    mask = sourceMask.rotate(degree, resample=Image.BICUBIC, center=(xc, yc))\n",
    "    \n",
    "    # Crop and Resize\n",
    "    nwr = int(min(image.size[0]-xc-1, xc-1))\n",
    "    nhr = int(min(image.size[1]-yc-1, yc-1))\n",
    "    image = image.crop((xc-nwr, yc-nhr, xc+nwr, yc+nhr))\n",
    "    mask = mask.crop((xc-nwr, yc-nhr, xc+nwr, yc+nhr))\n",
    "\n",
    "    image = image.resize(tuple((np.array(image.size) * resize_ratio).astype(int)))\n",
    "    mask = mask.resize(tuple((np.array(mask.size) * resize_ratio).astype(int)))\n",
    "    \n",
    "    return image, mask"
   ]
  },
  {
   "cell_type": "markdown",
   "metadata": {},
   "source": [
    "### 1. Source Image"
   ]
  },
  {
   "cell_type": "code",
   "execution_count": 9,
   "metadata": {},
   "outputs": [],
   "source": [
    "# Get BBoxs\n",
    "myimg_orig = Image.open('samples/jsm.jpg')\n",
    "mybboxs, mylandmarks = detect_faces(myimg_orig)\n",
    "\n",
    "# Convert to Nuki Boxs\n",
    "mynboxs = []\n",
    "for mybbox in mybboxs:\n",
    "    x0, y0, x1, y1 = mybbox[:4]\n",
    "    xc = (x0+x1)/2\n",
    "    yc = (y0+y1)/2\n",
    "    wr = (x1-x0)/2 * 2\n",
    "    hr = (y1-y0)/2 * 2\n",
    "    mynboxs.append((\n",
    "        int(max(0,xc-wr)), \n",
    "        int(max(0,yc-hr*2)), \n",
    "        int(min(xc+wr, myimg_orig.size[0])), \n",
    "        int(min(yc+hr, myimg_orig.size[1]))))\n",
    "\n",
    "\n",
    "w = mynboxs[0][2] - mynboxs[0][0]\n",
    "h = mynboxs[0][3] - mynboxs[0][1]\n",
    "mymasks_all = np.array(seg_faces(myimg_orig, mynboxs))\n",
    "mymasks = (mymasks_all > 0) & (mymasks_all != 14) & (mymasks_all != 16)\n",
    "mymasks = resizeMasks(mymasks, [(w,h)])\n",
    "mylandmarks = getLandmarks(mymasks_all)\n",
    "mylandmarks = resizeLandmarks(mylandmarks, [(w,h)])\n",
    "\n",
    "# Source Info\n",
    "mymask = Image.fromarray(mymasks[0])\n",
    "myimg = myimg_orig.crop(tuple(mynboxs[0])).resize((mymask.size))\n",
    "mylandmark = mylandmarks[0]\n"
   ]
  },
  {
   "cell_type": "code",
   "execution_count": 10,
   "metadata": {},
   "outputs": [
    {
     "data": {
      "text/plain": [
       "{'leye': array([270.79324145, 224.59097877]),\n",
       " 'reye': array([174.87833659, 229.22868578]),\n",
       " 'nose': array([223.86025794, 260.3938407 ]),\n",
       " 'mouth': array([224.12067757, 326.36172877]),\n",
       " 'upper_lip': array([222.4473877 , 315.36129176]),\n",
       " 'under_lip': array([225.98529978, 337.48449673])}"
      ]
     },
     "execution_count": 10,
     "metadata": {},
     "output_type": "execute_result"
    }
   ],
   "source": [
    "mylandmark"
   ]
  },
  {
   "cell_type": "markdown",
   "metadata": {},
   "source": [
    "### 2. Target Image"
   ]
  },
  {
   "cell_type": "code",
   "execution_count": 11,
   "metadata": {},
   "outputs": [],
   "source": [
    "# img = Image.open('samples/trot.png')\n",
    "# Image.fromarray(np.asarray(img)[:,:,:3]).save(\"samples/trot.jpg\")"
   ]
  },
  {
   "cell_type": "code",
   "execution_count": 12,
   "metadata": {},
   "outputs": [],
   "source": [
    "# Get BBoxs\n",
    "img = Image.open('samples/v.jpg')\n",
    "bboxs, landmarks = detect_faces(img)\n",
    "\n",
    "# Convert to Nuki Boxs\n",
    "nboxs = []\n",
    "for bbox in bboxs:\n",
    "    x0, y0, x1, y1 = bbox[:4]\n",
    "    xc = (x0+x1)/2\n",
    "    yc = (y0+y1)/2\n",
    "    wr = (x1-x0)/2 * 2\n",
    "    hr = (y1-y0)/2 * 2\n",
    "    nboxs.append((\n",
    "        int(max(0, xc-wr)), \n",
    "        int(max(0, yc-hr)), \n",
    "        int(min(xc+wr, img.size[0])), \n",
    "        int(min(yc+hr, img.size[1]))\n",
    "    ))\n",
    "    \n",
    "sizes = [(nb[2]-nb[0], nb[3]-nb[1]) for nb in nboxs]\n",
    "masks_all = np.array(seg_faces(img, nboxs))\n",
    "masks = (masks_all > 0) & (masks_all != 14) & (masks_all != 16)\n",
    "masks = resizeMasks(masks, sizes)\n",
    "landmarks = getLandmarks(masks_all)\n",
    "landmarks = resizeLandmarks(landmarks, sizes)"
   ]
  },
  {
   "cell_type": "markdown",
   "metadata": {},
   "source": [
    "### 3. Replace Face"
   ]
  },
  {
   "cell_type": "code",
   "execution_count": 13,
   "metadata": {},
   "outputs": [
    {
     "ename": "NameError",
     "evalue": "name 'target_vector' is not defined",
     "output_type": "error",
     "traceback": [
      "\u001b[0;31m---------------------------------------------------------------------------\u001b[0m",
      "\u001b[0;31mNameError\u001b[0m                                 Traceback (most recent call last)",
      "\u001b[0;32m<ipython-input-13-ea849c0ce14e>\u001b[0m in \u001b[0;36m<module>\u001b[0;34m\u001b[0m\n\u001b[1;32m     14\u001b[0m \u001b[0;34m\u001b[0m\u001b[0m\n\u001b[1;32m     15\u001b[0m     \u001b[0;31m# Change Source Face Angle, Size\u001b[0m\u001b[0;34m\u001b[0m\u001b[0;34m\u001b[0m\u001b[0;34m\u001b[0m\u001b[0m\n\u001b[0;32m---> 16\u001b[0;31m     \u001b[0mface_img\u001b[0m\u001b[0;34m,\u001b[0m \u001b[0mface_mask\u001b[0m \u001b[0;34m=\u001b[0m \u001b[0mgetRefinedMask\u001b[0m\u001b[0;34m(\u001b[0m\u001b[0mmyimg\u001b[0m\u001b[0;34m,\u001b[0m \u001b[0mmymask\u001b[0m\u001b[0;34m,\u001b[0m \u001b[0mmylandmark\u001b[0m\u001b[0;34m,\u001b[0m \u001b[0mtarget_vector\u001b[0m\u001b[0;34m,\u001b[0m \u001b[0;34m(\u001b[0m\u001b[0mw\u001b[0m\u001b[0;34m,\u001b[0m\u001b[0mh\u001b[0m\u001b[0;34m)\u001b[0m\u001b[0;34m)\u001b[0m\u001b[0;34m\u001b[0m\u001b[0;34m\u001b[0m\u001b[0m\n\u001b[0m\u001b[1;32m     17\u001b[0m \u001b[0;34m\u001b[0m\u001b[0m\n\u001b[1;32m     18\u001b[0m     \u001b[0;31m# Adjust Mask\u001b[0m\u001b[0;34m\u001b[0m\u001b[0;34m\u001b[0m\u001b[0;34m\u001b[0m\u001b[0m\n",
      "\u001b[0;31mNameError\u001b[0m: name 'target_vector' is not defined"
     ]
    }
   ],
   "source": [
    "my_img = np.asarray(myimg)\n",
    "orig_img = np.asarray(img)\n",
    "result_img = np.asarray(img).copy()\n",
    "\n",
    "zip_list = zip(nboxs, masks, landmarks)\n",
    "zip_list = sorted(zip_list, key=lambda x : x[1].sum())\n",
    "for nbox, mask, landmark in zip_list:\n",
    "    \n",
    "    # Target Face Region\n",
    "    xc, yc = nbox[:2]+landmark[\"nose\"].astype(int)\n",
    "    w = nbox[2]-nbox[0]\n",
    "    h = nbox[3]-nbox[1]\n",
    "    targetVector = getFaceDir(landmark)\n",
    "    \n",
    "    # Change Source Face Angle, Size\n",
    "    face_img, face_mask = getRefinedMask(myimg, mymask, mylandmark, targetVector, (w,h))\n",
    "    \n",
    "    # Adjust Mask\n",
    "    face_img = np.asarray(face_img).copy()\n",
    "    face_mask = np.asarray(face_mask)\n",
    "    face_mask = np.expand_dims(face_mask, 2)\n",
    "    face_img *= face_mask\n",
    "    \n",
    "    \n",
    "    # Sticker Source Image to Target Region\n",
    "    for y in range(face_img.shape[0]):\n",
    "        ny = yc - int(face_img.shape[0]/2) + y\n",
    "        if ny < 0 or ny >= result_img.shape[0]:\n",
    "            continue\n",
    "        for x in range(face_img.shape[1]):\n",
    "            nx = xc - int(face_img.shape[1]/2) + x\n",
    "            if nx < 0 or nx >= result_img.shape[1]:\n",
    "                continue\n",
    "            \n",
    "            if np.sum(face_img[y][x]) == 0:\n",
    "                continue\n",
    "            result_img[ny][nx] = face_img[y][x]\n"
   ]
  },
  {
   "cell_type": "code",
   "execution_count": null,
   "metadata": {},
   "outputs": [],
   "source": [
    "plt.imshow(result_img)\n",
    "Image.fromarray(result_img).save(\"results/result_replace_seg.jpg\")"
   ]
  },
  {
   "cell_type": "markdown",
   "metadata": {},
   "source": [
    "- 0: background   \n",
    "- 1: face   \n",
    "- 2: left eyebrow\n",
    "- 3: right eyebrow\n",
    "- 4: 왼쪽눈?\n",
    "- 5: 오른쪽눈?\n",
    "- 6: glasses \n",
    "- 7: left ear   \n",
    "- 8: right ear   \n",
    "- 9: 귀걸이??\n",
    "- 10: nose   \n",
    "- 11: mouth   \n",
    "- 12: upper lip  \n",
    "- 13: under lip\n",
    "- 14: neck   \n",
    "- 15: 목걸이??\n",
    "- 16: shoulder\n",
    "- 17: hair   \n"
   ]
  },
  {
   "cell_type": "code",
   "execution_count": null,
   "metadata": {},
   "outputs": [],
   "source": []
  }
 ],
 "metadata": {
  "kernelspec": {
   "display_name": "Python [conda env:pytorch-1.7] *",
   "language": "python",
   "name": "conda-env-pytorch-1.7-py"
  },
  "language_info": {
   "codemirror_mode": {
    "name": "ipython",
    "version": 3
   },
   "file_extension": ".py",
   "mimetype": "text/x-python",
   "name": "python",
   "nbconvert_exporter": "python",
   "pygments_lexer": "ipython3",
   "version": "3.8.5"
  }
 },
 "nbformat": 4,
 "nbformat_minor": 2
}

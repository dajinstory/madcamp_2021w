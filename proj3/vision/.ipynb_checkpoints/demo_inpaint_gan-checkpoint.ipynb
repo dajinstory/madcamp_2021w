{
 "cells": [
  {
   "cell_type": "code",
   "execution_count": 11,
   "id": "handed-internet",
   "metadata": {},
   "outputs": [],
   "source": [
    "import imageio\n",
    "import numpy as np\n",
    "from argparse import ArgumentParser\n",
    "\n",
    "import torch\n",
    "\n",
    "from models.inpaint_gan.trainer import Trainer\n",
    "from models.inpaint_gan.utils.tools import get_config\n",
    "import easydict"
   ]
  },
  {
   "cell_type": "code",
   "execution_count": 16,
   "id": "based-wagner",
   "metadata": {},
   "outputs": [],
   "source": [
    "args = easydict.EasyDict({ \n",
    "    \"config\": \"models/inpaint_gan/configs/config.yaml\", \n",
    "    \"image\": '', \n",
    "    \"mask\": '', \n",
    "    \"output\": \"models/inpaint_gan/output.png\", \n",
    "    \"model_path\": '', \n",
    "})\n",
    "\n",
    "args.image = \"models/inpaint_gan/examples/imagenet/imagenet_patches_ILSVRC2012_val_00008210_input.png\"\n",
    "args.mask = \"models/inpaint_gan/examples/center_mask_256.png\"\n",
    "args.output = \"models/inpaint_gan/examples/output.png\"\n",
    "args.model_path = \"models/inpaint_gan/torch_model.p\""
   ]
  },
  {
   "cell_type": "code",
   "execution_count": 19,
   "id": "green-banner",
   "metadata": {},
   "outputs": [],
   "source": [
    "def main():\n",
    "    config = get_config(args.config)\n",
    "    if config['cuda']:\n",
    "        device = torch.device(\"cuda:{}\".format(config['gpu_ids'][0]))\n",
    "    else:\n",
    "        device = torch.device(\"cpu\")\n",
    "    trainer = Trainer(config)\n",
    "    trainer.load_state_dict(load_weights(args.model_path, device), strict=False)\n",
    "    trainer.eval()\n",
    "\n",
    "    image = imageio.imread(args.image)\n",
    "    image = torch.FloatTensor(image).permute(2, 0, 1).unsqueeze(0).cuda()\n",
    "    mask = imageio.imread(args.mask)\n",
    "    mask = (torch.FloatTensor(mask[:, :, 0]) / 255).unsqueeze(0).unsqueeze(0).cuda()\n",
    "\n",
    "    x = (image / 127.5 - 1) * (1 - mask).cuda()\n",
    "    with torch.no_grad():\n",
    "        _, result, _ = trainer.netG(x, mask)\n",
    "\n",
    "    imageio.imwrite(args.output, upcast(result[0].permute(1, 2, 0).detach().cpu().numpy()))\n",
    "\n",
    "\n",
    "def load_weights(path, device):\n",
    "    model_weights = torch.load(path)\n",
    "    return {\n",
    "        k: v.to(device)\n",
    "        for k, v in model_weights.items()\n",
    "    }\n",
    "\n",
    "\n",
    "def upcast(x):\n",
    "    return np.clip((x + 1) * 127.5 , 0, 255).astype(np.uint8)\n"
   ]
  },
  {
   "cell_type": "code",
   "execution_count": 20,
   "id": "fundamental-calibration",
   "metadata": {},
   "outputs": [],
   "source": [
    "main()"
   ]
  },
  {
   "cell_type": "code",
   "execution_count": null,
   "id": "phantom-coach",
   "metadata": {},
   "outputs": [],
   "source": []
  }
 ],
 "metadata": {
  "kernelspec": {
   "display_name": "Python [conda env:pytorch-1.7] *",
   "language": "python",
   "name": "conda-env-pytorch-1.7-py"
  },
  "language_info": {
   "codemirror_mode": {
    "name": "ipython",
    "version": 3
   },
   "file_extension": ".py",
   "mimetype": "text/x-python",
   "name": "python",
   "nbconvert_exporter": "python",
   "pygments_lexer": "ipython3",
   "version": "3.8.5"
  }
 },
 "nbformat": 4,
 "nbformat_minor": 5
}

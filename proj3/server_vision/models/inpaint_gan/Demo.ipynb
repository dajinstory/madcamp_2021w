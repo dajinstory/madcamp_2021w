{
 "cells": [
  {
   "cell_type": "code",
   "execution_count": 4,
   "id": "handed-internet",
   "metadata": {},
   "outputs": [],
   "source": [
    "import imageio\n",
    "import numpy as np\n",
    "from argparse import ArgumentParser\n",
    "\n",
    "import torch\n",
    "\n",
    "from trainer import Trainer\n",
    "from utils.tools import get_config\n",
    "import easydict"
   ]
  },
  {
   "cell_type": "code",
   "execution_count": 5,
   "id": "based-wagner",
   "metadata": {},
   "outputs": [],
   "source": [
    "args = easydict.EasyDict({ \n",
    "    \"config\": \"configs/config.yaml\", \n",
    "    \"image\": '', \n",
    "    \"mask\": '', \n",
    "    \"output\": \"output.png\", \n",
    "    \"model_path\": '', \n",
    "})\n",
    "\n",
    "args.image = \"examples/imagenet/imagenet_patches_ILSVRC2012_val_00008210_input.png\"\n",
    "args.mask = \"examples/center_mask_256.png\"\n",
    "args.output = \"examples/output.png\"\n",
    "args.model_path = \"torch_model.p\""
   ]
  },
  {
   "cell_type": "code",
   "execution_count": 6,
   "id": "green-banner",
   "metadata": {},
   "outputs": [],
   "source": [
    "def main():\n",
    "    config = get_config(args.config)\n",
    "    if config['cuda']:\n",
    "        device = torch.device(\"cuda:{}\".format(config['gpu_ids'][0]))\n",
    "    else:\n",
    "        device = torch.device(\"cpu\")\n",
    "    trainer = Trainer(config)\n",
    "    trainer.load_state_dict(load_weights(args.model_path, device), strict=False)\n",
    "    trainer.eval()\n",
    "\n",
    "    image = imageio.imread(args.image)\n",
    "    image = torch.FloatTensor(image).permute(2, 0, 1).unsqueeze(0).cuda()\n",
    "    mask = imageio.imread(args.mask)\n",
    "    mask = (torch.FloatTensor(mask[:, :, 0]) / 255).unsqueeze(0).unsqueeze(0).cuda()\n",
    "\n",
    "    x = (image / 127.5 - 1) * (1 - mask).cuda()\n",
    "    with torch.no_grad():\n",
    "        _, result, _ = trainer.netG(x, mask)\n",
    "\n",
    "    imageio.imwrite(args.output, upcast(result[0].permute(1, 2, 0).detach().cpu().numpy()))\n",
    "\n",
    "\n",
    "def load_weights(path, device):\n",
    "    model_weights = torch.load(path)\n",
    "    return {\n",
    "        k: v.to(device)\n",
    "        for k, v in model_weights.items()\n",
    "    }\n",
    "\n",
    "\n",
    "def upcast(x):\n",
    "    return np.clip((x + 1) * 127.5 , 0, 255).astype(np.uint8)\n"
   ]
  },
  {
   "cell_type": "code",
   "execution_count": 7,
   "id": "fundamental-calibration",
   "metadata": {},
   "outputs": [
    {
     "name": "stderr",
     "output_type": "stream",
     "text": [
      "/home/dajinhan/workspace/generative-inpainting-pytorch/utils/tools.py:476: YAMLLoadWarning: calling yaml.load() without Loader=... is deprecated, as the default Loader is unsafe. Please read https://msg.pyyaml.org/load for full details.\n",
      "  return yaml.load(stream)\n",
      "/home/dajinhan/anaconda3/envs/pytorch-1.7/lib/python3.8/site-packages/torch/nn/functional.py:3103: UserWarning: The default behavior for interpolate/upsample with float scale_factor changed in 1.6.0 to align with other frameworks/libraries, and now uses scale_factor directly, instead of relying on the computed output size. If you wish to restore the old behavior, please set recompute_scale_factor=True. See the documentation of nn.Upsample for details. \n",
      "  warnings.warn(\"The default behavior for interpolate/upsample with float scale_factor changed \"\n"
     ]
    }
   ],
   "source": [
    "main()"
   ]
  },
  {
   "cell_type": "code",
   "execution_count": null,
   "id": "phantom-coach",
   "metadata": {},
   "outputs": [],
   "source": []
  }
 ],
 "metadata": {
  "kernelspec": {
   "display_name": "Python [conda env:pytorch-1.7] *",
   "language": "python",
   "name": "conda-env-pytorch-1.7-py"
  },
  "language_info": {
   "codemirror_mode": {
    "name": "ipython",
    "version": 3
   },
   "file_extension": ".py",
   "mimetype": "text/x-python",
   "name": "python",
   "nbconvert_exporter": "python",
   "pygments_lexer": "ipython3",
   "version": "3.8.5"
  }
 },
 "nbformat": 4,
 "nbformat_minor": 5
}

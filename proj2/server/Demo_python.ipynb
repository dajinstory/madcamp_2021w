{
 "cells": [
  {
   "cell_type": "markdown",
   "metadata": {},
   "source": [
    "## Import Libraries"
   ]
  },
  {
   "cell_type": "code",
   "execution_count": 1,
   "metadata": {},
   "outputs": [],
   "source": [
    "# Copyright (c) Facebook, Inc. and its affiliates. All Rights Reserved\n",
    "import argparse\n",
    "import glob\n",
    "import multiprocessing as mp\n",
    "import os\n",
    "import time\n",
    "import cv2\n",
    "import tqdm\n",
    "\n",
    "from detectron2.data.detection_utils import read_image\n",
    "from detectron2.utils.logger import setup_logger\n",
    "\n",
    "from demo.predictor import VisualizationDemo\n",
    "from adet.config import get_cfg\n",
    "\n",
    "# constants\n",
    "WINDOW_NAME = \"COCO detections\"\n"
   ]
  },
  {
   "cell_type": "markdown",
   "metadata": {},
   "source": [
    "## Input parameters"
   ]
  },
  {
   "cell_type": "code",
   "execution_count": 2,
   "metadata": {},
   "outputs": [],
   "source": [
    "def setup_cfg(args):\n",
    "    # load config from file and command-line arguments\n",
    "    cfg = get_cfg()\n",
    "    cfg.merge_from_file(args.config_file)\n",
    "    cfg.merge_from_list(args.opts)\n",
    "    # Set score_threshold for builtin models\n",
    "    cfg.MODEL.RETINANET.SCORE_THRESH_TEST = args.confidence_threshold\n",
    "    cfg.MODEL.ROI_HEADS.SCORE_THRESH_TEST = args.confidence_threshold\n",
    "    cfg.MODEL.FCOS.INFERENCE_TH_TEST = args.confidence_threshold\n",
    "    cfg.MODEL.MEInst.INFERENCE_TH_TEST = args.confidence_threshold\n",
    "    cfg.MODEL.PANOPTIC_FPN.COMBINE.INSTANCES_CONFIDENCE_THRESH = args.confidence_threshold\n",
    "    cfg.freeze()\n",
    "    return cfg\n",
    "\n",
    "\n",
    "def get_parser():\n",
    "    parser = argparse.ArgumentParser(description=\"Detectron2 Demo\")\n",
    "    parser.add_argument(\n",
    "        \"--config-file\",\n",
    "        default=\"configs/quick_schedules/e2e_mask_rcnn_R_50_FPN_inference_acc_test.yaml\",\n",
    "        metavar=\"FILE\",\n",
    "        help=\"path to config file\",\n",
    "    )\n",
    "    parser.add_argument(\"--webcam\", action=\"store_true\", help=\"Take inputs from webcam.\")\n",
    "    parser.add_argument(\"--video-input\", help=\"Path to video file.\")\n",
    "    parser.add_argument(\"--input\", nargs=\"+\", help=\"A list of space separated input images\")\n",
    "    parser.add_argument(\n",
    "        \"--output\",\n",
    "        help=\"A file or directory to save output visualizations. \"\n",
    "        \"If not given, will show output in an OpenCV window.\",\n",
    "    )\n",
    "\n",
    "    parser.add_argument(\n",
    "        \"--confidence-threshold\",\n",
    "        type=float,\n",
    "        default=0.5,\n",
    "        help=\"Minimum score for instance predictions to be shown\",\n",
    "    )\n",
    "    parser.add_argument(\n",
    "        \"--opts\",\n",
    "        help=\"Modify config options using the command-line 'KEY VALUE' pairs\",\n",
    "        default=[],\n",
    "        nargs=argparse.REMAINDER,\n",
    "    )\n",
    "    return parser    "
   ]
  },
  {
   "cell_type": "code",
   "execution_count": 3,
   "metadata": {},
   "outputs": [
    {
     "name": "stdout",
     "output_type": "stream",
     "text": [
      "\u001b[32m[01/13 06:20:57 detectron2]: \u001b[0mArguments: {'config_file': 'configs/SOLOv2/R50_3x.yaml', 'input': ['../../datasets/ruru.jpg'], 'output': 'results', 'confidence_threshold': 0.5, 'opts': ['MODEL.WEIGHTS', '../../models/SOLOv2_R50_3x.pth']}\n"
     ]
    }
   ],
   "source": [
    "# import easydict \n",
    "# args = easydict.EasyDict({ \n",
    "#     \"config_file\": \"configs/SOLOv2/R50_3x.yaml\", \n",
    "#     \"input\": [\"../../datasets/ruru.jpg\"], \n",
    "#     \"output\": \"results\", \n",
    "#     \"confidence_threshold\": 0.5, \n",
    "#     \"opts\": [\"MODEL.WEIGHTS\", \"../../models/SOLOv2_R50_3x.pth\"] })\n",
    "\n",
    "mp.set_start_method(\"spawn\", force=True)\n",
    "args = get_parser().parse_args()\n",
    "logger = setup_logger()\n",
    "logger.info(\"Arguments: \" + str(args))\n",
    "\n",
    "cfg = setup_cfg(args)\n",
    "\n",
    "demo = VisualizationDemo(cfg)\n"
   ]
  },
  {
   "cell_type": "markdown",
   "metadata": {},
   "source": [
    "## Run SOLOv2"
   ]
  },
  {
   "cell_type": "code",
   "execution_count": 4,
   "metadata": {},
   "outputs": [
    {
     "name": "stderr",
     "output_type": "stream",
     "text": [
      "  0%|          | 0/1 [00:00<?, ?it/s]C:\\Users\\q\\anaconda3\\envs\\deit\\lib\\site-packages\\torch\\nn\\functional.py:3060: UserWarning: Default upsampling behavior when mode=bilinear is changed to align_corners=False since 0.4.0. Please specify align_corners=True if the old behavior is desired. See the documentation of nn.Upsample for details.\n",
      "  warnings.warn(\"Default upsampling behavior when mode={} is changed \"\n",
      "C:\\Users\\q\\anaconda3\\envs\\deit\\lib\\site-packages\\torch\\nn\\functional.py:3103: UserWarning: The default behavior for interpolate/upsample with float scale_factor changed in 1.6.0 to align with other frameworks/libraries, and now uses scale_factor directly, instead of relying on the computed output size. If you wish to restore the old behavior, please set recompute_scale_factor=True. See the documentation of nn.Upsample for details. \n",
      "  warnings.warn(\"The default behavior for interpolate/upsample with float scale_factor changed \"\n",
      "C:\\Users\\q\\Desktop\\workspace\\AdelaiDet\\adet\\modeling\\solov2\\solov2.py:397: UserWarning: This overload of nonzero is deprecated:\n",
      "\tnonzero()\n",
      "Consider using one of the following signatures instead:\n",
      "\tnonzero(*, bool as_tuple) (Triggered internally at  ..\\torch\\csrc\\utils\\python_arg_parser.cpp:882.)\n",
      "  inds = inds.nonzero()\n",
      "100%|██████████| 1/1 [00:01<00:00,  1.66s/it]\n"
     ]
    }
   ],
   "source": [
    "args.input = glob.glob(os.path.expanduser(args.input[0]))\n",
    "\n",
    "for path in tqdm.tqdm(args.input, disable=not args.output):\n",
    "    # use PIL, to be consistent with evaluation\n",
    "    img = read_image(path, format=\"BGR\")\n",
    "    start_time = time.time()\n",
    "    predictions, visualized_output = demo.run_on_image(img)\n",
    "\n",
    "\n",
    "    out_filename = os.path.join(args.output, os.path.basename(path))\n",
    "    \n",
    "    visualized_output.save(out_filename)\n"
   ]
  },
  {
   "cell_type": "markdown",
   "metadata": {},
   "source": [
    "## Visualize"
   ]
  },
  {
   "cell_type": "code",
   "execution_count": 5,
   "metadata": {},
   "outputs": [],
   "source": [
    "from matplotlib.pylab import plt\n",
    "import numpy as np\n",
    "from PIL import Image"
   ]
  },
  {
   "cell_type": "code",
   "execution_count": 6,
   "metadata": {},
   "outputs": [
    {
     "data": {
      "text/plain": [
       "tensor([[[False, False, False,  ..., False, False, False],\n",
       "         [False, False, False,  ..., False, False, False],\n",
       "         [False, False, False,  ..., False, False, False],\n",
       "         ...,\n",
       "         [False, False, False,  ..., False, False, False],\n",
       "         [False, False, False,  ..., False, False, False],\n",
       "         [False, False, False,  ..., False, False, False]]], device='cuda:0')"
      ]
     },
     "execution_count": 6,
     "metadata": {},
     "output_type": "execute_result"
    }
   ],
   "source": [
    "predictions['instances'][0].pred_masks"
   ]
  },
  {
   "cell_type": "code",
   "execution_count": 7,
   "metadata": {},
   "outputs": [],
   "source": [
    "# plt.imshow(predictions['instances'][0].pred_masks.to(\"cpu\").numpy()[0])"
   ]
  },
  {
   "cell_type": "code",
   "execution_count": 8,
   "metadata": {},
   "outputs": [],
   "source": [
    "mask = predictions['instances'][0].pred_masks.to(\"cpu\").numpy()[0]\n",
    "nuki = img * np.expand_dims(mask, axis=2)"
   ]
  },
  {
   "cell_type": "code",
   "execution_count": 9,
   "metadata": {},
   "outputs": [],
   "source": [
    "# plt.imshow(nuki)\n",
    "result = Image.fromarray(nuki)\n",
    "result.save(out_filename)"
   ]
  },
  {
   "cell_type": "code",
   "execution_count": null,
   "metadata": {},
   "outputs": [],
   "source": []
  }
 ],
 "metadata": {
  "kernelspec": {
   "display_name": "Python [conda env:deit] *",
   "language": "python",
   "name": "conda-env-deit-py"
  },
  "language_info": {
   "codemirror_mode": {
    "name": "ipython",
    "version": 3
   },
   "file_extension": ".py",
   "mimetype": "text/x-python",
   "name": "python",
   "nbconvert_exporter": "python",
   "pygments_lexer": "ipython3",
   "version": "3.8.5"
  }
 },
 "nbformat": 4,
 "nbformat_minor": 4
}
